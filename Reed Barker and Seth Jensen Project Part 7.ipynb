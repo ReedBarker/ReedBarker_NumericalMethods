{
  "cells": [
    {
      "cell_type": "markdown",
      "metadata": {
        "id": "wjU_qfpZVJs0"
      },
      "source": [
        "#Project Module 7: Integration\n",
        "#CPSMA 4413-01 Dr. Jacob's Numerical Methods\n",
        "Reed Barker and Seth Jensen"
      ]
    },
    {
      "cell_type": "markdown",
      "metadata": {
        "id": "2qfDAI_X6LZ5"
      },
      "source": [
        "#Riemann Integration"
      ]
    },
    {
      "cell_type": "code",
      "source": [
        "from tabulate import tabulate\n",
        "import matplotlib.pyplot as plt\n",
        "import numpy as np\n",
        "from scipy import integrate"
      ],
      "metadata": {
        "id": "HPKJPdU9xrrL"
      },
      "execution_count": null,
      "outputs": []
    },
    {
      "cell_type": "code",
      "source": [
        "def f(x):\n",
        "  #return ((-(x**2)) + (5*x))\n",
        "  #return x**2\n",
        "  return (x-1.65)**3 - (x-1.35) + 5\n",
        "\n",
        "def exactIntegral(f, a, b):\n",
        "  return integrate.quad(f, a, b)[0] - integrate.quad(f, a, a)[0]\n",
        "\n",
        "def riemannSum(a, b, n, method):\n",
        "  rectWidth = (b - a) / n  # width of each rectangle\n",
        "  x = a  # start at left endpoint\n",
        "  sum = 0  # initialize the sum\n",
        "  \n",
        "  if method == 'right':\n",
        "    for i in range(n):\n",
        "      x += rectWidth  # move to right endpoint\n",
        "      sum += f(x) * rectWidth  # add area of rectangle\n",
        "          \n",
        "  elif method == 'left':\n",
        "    for i in range(n):\n",
        "      x += rectWidth  # move to right endpoint\n",
        "      sum += f(x) * rectWidth  # add area of rectangle\n",
        "               \n",
        "  elif method == 'center':\n",
        "    x += rectWidth / 2  # start at midpoint of first rectangle\n",
        "    for i in range(n):\n",
        "      sum += f(x) * rectWidth  # add area of rectangle\n",
        "      x += rectWidth  # move to right endpoint of rectangle\n",
        "          \n",
        "  else:\n",
        "    print(\"Invalid method specified. Must be 'right', 'left', or 'center'.\")\n",
        "    return None\n",
        "  \n",
        "  return sum\n",
        "\n",
        "def trapezoidalRule(a, b, n):\n",
        "  h = (b - a) / n\n",
        "  x = a\n",
        "  sum = f(x)\n",
        "\n",
        "  for i in range(1, n):\n",
        "      x += h\n",
        "      sum += 2 * f(x)\n",
        "\n",
        "  sum += f(b)\n",
        "  integral = (h / 2) * sum\n",
        "\n",
        "  return integral\n",
        "\n",
        "def riemannErrorTable(f, a, b, rectCount, method):\n",
        "  results = []\n",
        "  for n in rectCount:\n",
        "    riemannVal = riemannSum(a, b, n, method)\n",
        "    trapezoidVal = trapezoidalRule(a, b, n)\n",
        "    exactVal = exactIntegral(f, a, b)\n",
        "\n",
        "    rtDiff = riemannVal - trapezoidVal\n",
        "    reDiff = riemannVal - exactVal\n",
        "    teDiff = trapezoidVal - exactVal\n",
        "\n",
        "    errorDiff = exactVal - riemannVal\n",
        "    error = ((exactVal - riemannVal) / exactVal) * 100\n",
        "    results.append((n, riemannVal, trapezoidVal, exactVal, rtDiff, reDiff, teDiff))\n",
        "\n",
        "  headers = ['Rectangles', method+' Riemann', \"Trapezoidal\", 'Exact', 'Riemann/Trapezoidal Difference', 'Riemann/Exact Difference', 'Trapezoidal/Exact Difference']\n",
        "  table = tabulate(results, headers=headers)\n",
        "  print(table)\n",
        "\n",
        "def plotRiemann(a, b, n, method):\n",
        "  # Define the x and y values for the function\n",
        "  x = np.linspace(a, b, 100)\n",
        "  y = f(x)\n",
        "\n",
        "  rectWidth = (b - a) / n  # width of each rectangle\n",
        "\n",
        "  x_rect = np.linspace(a+rectWidth/2, b-rectWidth/2, n)\n",
        "        \n",
        "  # Compute the y values for the rectangles using the x values\n",
        "  y_rect = f(x_rect)\n",
        "\n",
        "  # Plot the function and the rectangles\n",
        "  fig, ax = plt.subplots()\n",
        "  ax.plot(x, y, 'b', linewidth=2)\n",
        "\n",
        "  if method == \"right\":\n",
        "    ax.bar(x_rect, y_rect, width=-rectWidth, alpha=0.3, align='edge', edgecolor='b')\n",
        "    \n",
        "  elif method == \"left\":\n",
        "    ax.bar(x_rect, y_rect, width=rectWidth, alpha=0.3, align='edge', edgecolor='b')\n",
        "\n",
        "  elif method == \"center\":\n",
        "    ax.bar(x_rect, y_rect, width=rectWidth, alpha=0.3, align='center', edgecolor='b')\n",
        "\n",
        "  else:\n",
        "    print(\"Invalid method specified. Must be 'right', 'left', or 'center'.\")\n",
        "\n",
        "  ax.set_title('Riemann sum of $f(x) = -(x^2) + 5x$ over $[0, 5]$ using the ' + method + ' endpoint rule with '+str(n)+' rectangles') #Title\n",
        "\n",
        "  plt.show()"
      ],
      "metadata": {
        "id": "WPKcBAD2s82Y"
      },
      "execution_count": 245,
      "outputs": []
    },
    {
      "cell_type": "code",
      "source": [
        "rectCount = [5,10,20,40,80,160,320,640,100000]\n",
        "\n",
        "a = 0\n",
        "b = 3.5\n",
        "n = 10\n",
        "method = \"left\"\n",
        "\n",
        "plotRiemann(a, b, n, method)\n",
        "riemannErrorTable(f, a, b, rectCount, method)"
      ],
      "metadata": {
        "colab": {
          "base_uri": "https://localhost:8080/",
          "height": 664
        },
        "id": "SNbcmvMieVto",
        "outputId": "f075352f-eac8-4e8f-9b66-6ea7205417ba"
      },
      "execution_count": 250,
      "outputs": [
        {
          "output_type": "display_data",
          "data": {
            "text/plain": [
              "<Figure size 640x480 with 1 Axes>"
            ],
            "image/png": "[encoded data removed]"
          },
          "metadata": {}
        },
        {
          "output_type": "stream",
          "name": "stdout",
          "text": [
            "  Rectangles    left Riemann    Trapezoidal    Exact    Riemann/Trapezoidal Difference    Riemann/Exact Difference    Trapezoidal/Exact Difference\n",
            "------------  --------------  -------------  -------  --------------------------------  --------------------------  ------------------------------\n",
            "           5         19.8244        17.2611  17.1754                       2.56331                     2.64906                         0.08575\n",
            "          10         18.4785        17.1968  17.1754                       1.28166                     1.30309                         0.0214375\n",
            "          20         17.8216        17.1807  17.1754                       0.640828                    0.646187                        0.00535937\n",
            "          40         17.4971        17.1767  17.1754                       0.320414                    0.321754                        0.00133984\n",
            "          80         17.3359        17.1757  17.1754                       0.160207                    0.160542                        0.000334961\n",
            "         160         17.2556        17.1755  17.1754                       0.0801035                   0.0801873                       8.37402e-05\n",
            "         320         17.2154        17.1754  17.1754                       0.0400518                   0.0400727                       2.09351e-05\n",
            "         640         17.1954        17.1754  17.1754                       0.0200259                   0.0200311                       5.23376e-06\n",
            "      100000         17.1755        17.1754  17.1754                       0.000128166                 0.000128166                     2.17401e-10\n",
            "\n"
          ]
        }
      ]
    },
    {
      "cell_type": "markdown",
      "source": [
        "#Start your Report and Comment on the Following"
      ],
      "metadata": {
        "id": "ueqal3QEQf13"
      }
    },
    {
      "cell_type": "markdown",
      "source": [
        "(a) Describe your findings in words."
      ],
      "metadata": {
        "id": "KZrYiPnqQo7J"
      }
    },
    {
      "cell_type": "markdown",
      "source": [
        "\n",
        "(b) Discuss why your estimate was an over or under estimate. How did the graph show you this."
      ],
      "metadata": {
        "id": "3M9zNoGtQox5"
      }
    },
    {
      "cell_type": "markdown",
      "source": [
        "(c) Given a strictly increasing function, which algorithm would you choose? What if it was decreasing? What about undulating?"
      ],
      "metadata": {
        "id": "SBsVX-pqQohb"
      }
    }
  ],
  "metadata": {
    "colab": {
      "provenance": []
    },
    "kernelspec": {
      "display_name": "Python 3",
      "name": "python3"
    }
  },
  "nbformat": 4,
  "nbformat_minor": 0
}
