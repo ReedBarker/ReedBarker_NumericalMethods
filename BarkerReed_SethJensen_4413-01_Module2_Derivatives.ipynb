{
  "nbformat": 4,
  "nbformat_minor": 0,
  "metadata": {
    "colab": {
      "provenance": []
    },
    "kernelspec": {
      "name": "python3",
      "display_name": "Python 3"
    },
    "language_info": {
      "name": "python"
    }
  },
  "cells": [
    {
      "cell_type": "markdown",
      "source": [
        "#Project Module 2: Derivatives\n",
        "#CPSMA 4413-01 Dr. Jacob's Numerical Methods\n",
        "Reed Barker and Seth Jensen"
      ],
      "metadata": {
        "id": "sx_L8cJocZIt"
      }
    },
    {
      "cell_type": "markdown",
      "source": [
        "##First, we will be estimating derivatives:"
      ],
      "metadata": {
        "id": "3SlGX2JXceGd"
      }
    },
    {
      "cell_type": "markdown",
      "source": [
        "Below is our function used for computing the forward difference, backward difference, and the central difference as well"
      ],
      "metadata": {
        "id": "Eo6pcVa7cf2s"
      }
    },
    {
      "cell_type": "markdown",
      "source": [
        "Forward:  \n",
        "$\n",
        "f'(x) = \\frac{f(x+h) - f(x)}{h}\n",
        "$\n",
        "\n",
        "Backward:  \n",
        "$\n",
        "f'(x) = \\frac{f(x) + f(x - h)}{h}\n",
        "$\n",
        "\n",
        "Center:  \n",
        "$\n",
        "f'(x) = \\frac{f(x+h) + f(x - h)}{2h}\n",
        "$"
      ],
      "metadata": {
        "id": "N5pE-dZRywH5"
      }
    },
    {
      "cell_type": "code",
      "source": [
        "import matplotlib.pyplot as plt\n",
        "import numpy as np\n",
        "\n",
        "x = 1 #@param {type:\"number\"}\n",
        "h = 0.5 #@param {type:\"number\"}\n",
        "diff_Option = 'Central Difference' #@param [\"Forward Difference\", \"Backward Difference\", \"Central Difference\"]\n",
        "equationString = \"x + x**3\" #@param [\"3 * x**3 + 4 * x**2 + 3\", \"6 * x**2 + 2 * x + 8\", \"(2 + x**8)**(1/2)\"] {allow-input: true}\n",
        "equation = eval(equationString)\n",
        "\n",
        "#-----------------------------------------------------------------------\n",
        "\n",
        "print(\"x:\", x)\n",
        "print(\"h:\", h)\n",
        "print(\"f(x) =\", equationString)\n",
        "print(f\"f({x}) =\".format(), equation)\n",
        "\n",
        "#-----------------------------------------------------------------------\n",
        "\n",
        "def f(input):\n",
        "  x = input\n",
        "  equation = eval(equationString)\n",
        "  return equation\n",
        "\n",
        "#-----------------------------------------------------------------------\n",
        "\n",
        "if diff_Option == \"Forward Difference\":\n",
        "  print(\"Forward Difference\\n\")\n",
        "\n",
        "  print(\"f'(x) = f( x + h ) - f( x ) ) / h\")\n",
        "  print(\"f'(x) = f( {} + {} ) - f( {} ) ) / {}\".format(x, h, x, h))\n",
        "  print(\"f'(x) = ( {} - {} ) / {}\".format(f(x + h), f(x), h))\n",
        "  print(\"f'(x) =\", ( f(x + h) - f(x) ) / h)\n",
        "\n",
        "  plt.axvline(x, color='r', linestyle='--') # Vertical line at x\n",
        "  plt.axvline(x+h, color='g', linestyle='--') # Vertical line at x+h\n",
        "  plt.plot([x, x+h], [f(x), f(x + h)])\n",
        "\n",
        "elif diff_Option == \"Backward Difference\":\n",
        "  print(\"Backward Difference\\n\")\n",
        "\n",
        "  print(\"f'(x) = ( f( x ) - f( x - h ) ) / h)\")\n",
        "  print(\"f'(x) = ( f( {} ) - f({} - {}) ) / {})\".format(x, x, h, h))\n",
        "  print(\"f'(x) = ( {} - {} ) / {}\".format(f(x), f(x - h), h))\n",
        "  print(\"f'(x) =\", ( f( x ) - f(x - h) ) / h)\n",
        "\n",
        "  plt.axvline(x, color='r', linestyle='--') # Vertical line at x\n",
        "  plt.axvline(x-h, color='g', linestyle='--') # Vertical line at x-h\n",
        "  plt.plot([x, x-h], [f(x), f(x - h)])\n",
        "\n",
        "elif diff_Option == \"Central Difference\":\n",
        "  print(\"Central Difference\\n\")\n",
        "\n",
        "\n",
        "  print(\"f'(x) = ( f( x + h ) - f( x - h ) ) / ( 2 * h )\")\n",
        "  print(\"f'(x) = ( f( {} + {} ) - f( {} - {} ) ) / ( 2 * {} )\".format(x, h, x, h, h))\n",
        "  print(\"f'(x) = ( {} - {} ) / ( 2 * {} )\".format(f( x + h ), f( x - h ), h))\n",
        "  print(\"f'(x) =\", ( f(x + h) - f(x - h) ) / (2*h))\n",
        "\n",
        "  plt.axvline(x, color='r', linestyle='--') # Vertical line at x\n",
        "  plt.axvline(x+h, color='g', linestyle='--') # Vertical line at x+h\n",
        "  plt.axvline(x-h, color='g', linestyle='--') # Vertical line at x-h\n",
        "  plt.plot([x+h, x-h], [f(x + h), f(x - h)])\n",
        "\n",
        "else:\n",
        "  print(\"Error\")\n",
        "\n",
        "#-----------------------------------------------------------------------\n",
        "\n",
        "linespace = np.linspace(-3, 3, 200) # (-x, +x, resolution)\n",
        "plt.ylim(-1, 15) # limits y axis from and to (-y, +y)\n",
        "y = np.vectorize(f)(linespace)\n",
        "\n",
        "plt.plot(linespace, y)              # Plotting the equation\n",
        "\n",
        "plt.title(\"Graph of y = {}\".format(equationString))  # Adding a title\n",
        "plt.xlabel(\"x\")             # Labeling the x-axis\n",
        "plt.ylabel(\"y\")             # Labeling the y-axis\n",
        "plt.grid()                  # Adding a grid\n",
        "plt.show()                  # Displaying the plot"
      ],
      "metadata": {
        "colab": {
          "base_uri": "https://localhost:8080/",
          "height": 469
        },
        "id": "4J28dJ0-zVP9",
        "outputId": "3d56c278-abe2-45ef-943e-310750b8a6a3"
      },
      "execution_count": 354,
      "outputs": [
        {
          "output_type": "stream",
          "name": "stdout",
          "text": [
            "x: 1\n",
            "h: 1\n",
            "f(x) = x + x**3\n",
            "f(1) = 2\n",
            "Central Difference\n",
            "\n",
            "f'(x) = ( f( x + h ) - f( x - h ) ) / ( 2 * h )\n",
            "f'(x) = ( f( 1 + 1 ) - f( 1 - 1 ) ) / ( 2 * 1 )\n",
            "f'(x) = ( 10 - 0 ) / ( 2 * 1 )\n",
            "f'(x) = 5.0\n"
          ]
        },
        {
          "output_type": "display_data",
          "data": {
            "text/plain": [
              "<Figure size 432x288 with 1 Axes>"
            ],
            "image/png": "[encoded data removed]"
          },
          "metadata": {
            "needs_background": "light"
          }
        }
      ]
    },
    {
      "cell_type": "markdown",
      "source": [
        "###Below is the function of choice for computing the finite difference of our second order derivative:\n"
      ],
      "metadata": {
        "id": "JW8zLnSPcnYm"
      }
    },
    {
      "cell_type": "markdown",
      "source": [
        "$f''(x) = \\frac{f(x+h) - 2f(x) + f(x-h)}{h^2}$"
      ],
      "metadata": {
        "id": "0S9ha2teQkJN"
      }
    },
    {
      "cell_type": "markdown",
      "source": [
        "###Consider the continuous function f and center used in Project Module 1. Apply these approximations for at least 5 different values for step size and compare to actual value in table form. Compute absolute and relative error of each approximation."
      ],
      "metadata": {
        "id": "W9lDWQlAco7F"
      }
    },
    {
      "cell_type": "markdown",
      "source": [
        "##Create a process for performing Lagrange interpolation."
      ],
      "metadata": {
        "id": "_1Ko108mcyGA"
      }
    },
    {
      "cell_type": "markdown",
      "source": [
        "###Using f from Project Module 1 and the points (center, f(center)), (center + 0.1, f(center + 0.1)), and (2center, f(2center)), create a Lagrange Interpolation."
      ],
      "metadata": {
        "id": "FS3v06eic4cZ"
      }
    },
    {
      "cell_type": "code",
      "source": [
        "center = 0.75\n",
        "xVals = [center + 0.1, center + 0.2, center * 2]\n",
        "fOFxVals = []\n",
        "fPrimeOFxVals = []\n",
        "equationString = \"0.1*x + 0.25*x**3\" #\"3 * x**3 + 4 * x**2 + 3\"\n",
        "equation = eval(equationString)\n",
        "\n",
        "#-----------------------------------------------------------------------\n",
        "\n",
        "def f(input):\n",
        "  x = input\n",
        "  equation = eval(equationString)\n",
        "  return equation\n",
        "\n",
        "for i in range(len(xVals)):\n",
        "  print(\"Central Difference: f'({}) =\".format(xVals[i]), ( f(center + xVals[i]) - f(center - xVals[i]) ) / (2*xVals[i]))\n",
        "\n",
        "  fOFxVals.append( f(xVals[i]) )\n",
        "\n",
        "  fPrimeOFxVals.append(( f(center + xVals[i]) - f(center - xVals[i]) ) / (2*xVals[i]))\n",
        "\n",
        "print(\"center:\", xVals)\n",
        "print(\"f(center):\", fOFxVals)\n",
        "print(\"f'(center):\", fPrimeOFxVals)\n",
        "\n",
        "#-----------------------------------------------------------------------\n",
        "\n",
        "sum = 0\n",
        "\n",
        "n = len(xVals)\n",
        "for i in range(n):\n",
        "  \n",
        "  jloop = 1\n",
        "  jloop *= fOFxVals[i]\n",
        "  for j in range(n):\n",
        "    if j != i:\n",
        "      #print(\"( t-t{} )\".format(j), \"/\", \"( t{}-t{} )\".format(i, j), end=\" * \")\n",
        "      print(\"( {}-{} )\".format(center, xVals[j]), \"/\", \"( {}-{} )\".format(xVals[i], xVals[j]), end=\" * \")\n",
        "      jloop *= (center - xVals[j]) / (xVals[i] - xVals[j])\n",
        "  \n",
        "  sum += jloop\n",
        "\n",
        "  if i != n-1:\n",
        "    print(fOFxVals[i], \"+\")\n",
        "  else:\n",
        "    print(fOFxVals[i])\n",
        "\n",
        "  print(\"jloop\", jloop)\n",
        "print(\"sum\", sum)"
      ],
      "metadata": {
        "id": "jFthV0d1Pepq",
        "colab": {
          "base_uri": "https://localhost:8080/"
        },
        "outputId": "8fc3a5e9-f527-4237-b47e-e828cd07ad05"
      },
      "execution_count": 365,
      "outputs": [
        {
          "output_type": "stream",
          "name": "stdout",
          "text": [
            "Central Difference: f'(0.85) = 0.7025000000000001\n",
            "Central Difference: f'(0.95) = 0.7474999999999999\n",
            "Central Difference: f'(1.5) = 1.084375\n",
            "center: [0.85, 0.95, 1.5]\n",
            "f(center): [0.23853124999999997, 0.30934375, 0.99375]\n",
            "f'(center): [0.7025000000000001, 0.7474999999999999, 1.084375]\n",
            "( 0.75-0.95 ) / ( 0.85-0.95 ) * ( 0.75-1.5 ) / ( 0.85-1.5 ) * 0.23853124999999997 +\n",
            "jloop 0.5504567307692306\n",
            "( 0.75-0.85 ) / ( 0.95-0.85 ) * ( 0.75-1.5 ) / ( 0.95-1.5 ) * 0.30934375 +\n",
            "jloop -0.4218323863636363\n",
            "( 0.75-0.85 ) / ( 1.5-0.85 ) * ( 0.75-0.95 ) / ( 1.5-0.95 ) * 0.99375\n",
            "jloop 0.055594405594405566\n",
            "sum 0.1842187499999999\n"
          ]
        }
      ]
    },
    {
      "cell_type": "markdown",
      "source": [
        "###Compute the absolute and relative error for the interpolation at center + 0.2"
      ],
      "metadata": {
        "id": "P2GqkHP_c5yp"
      }
    },
    {
      "cell_type": "markdown",
      "source": [
        "Absolute error is the difference between the exact value and the approximate value:\n",
        "\n",
        "Absolute error = | exact value - approximate value |\n",
        "\n",
        "On the other hand, relative error is the ratio of the absolute error to the exact value:\n",
        "\n",
        "Relative error = | exact value - approximate value | / | exact value |\n",
        "\n",
        "f(x) = 0.1*x + 0.25*x**3\n",
        "\n",
        "f'(x) = 0.1 + 0.75x^2\n",
        "\n",
        "f'(center + 0.2) = 0.1 + 0.75(center + 0.2)^2\n",
        "\n",
        "f'(0.95) = 0.776875"
      ],
      "metadata": {
        "id": "V8bkXtuznNik"
      }
    },
    {
      "cell_type": "code",
      "source": [
        "x = center+0.2\n",
        "h = 0.005 \n",
        "center = 0.75\n",
        "xVals = [center, center + 0.1, center * 2]\n",
        "fOFxVals = []\n",
        "fPrimeOFxVals = []\n",
        "equationString = \"0.1*x + 0.25*x**3\" #\"3 * x**3 + 4 * x**2 + 3\"\n",
        "equation = eval(equationString)\n",
        "\n",
        "#-----------------------------------------------------------------------\n",
        "\n",
        "def f(input):\n",
        "  x = input\n",
        "  equation = eval(equationString)\n",
        "  return equation\n",
        "\n",
        "approx = ( f(x + center) - f(x - center) ) / (2*x)\n",
        "exact = 0.1 + 0.75*(0.95)**2.0\n",
        "\n",
        "print(\"Central Difference: f'({}) =\".format(x), approx)\n",
        "\n",
        "print(\"Exact Value:\", exact)\n",
        "\n",
        "#-----------------------------------------------------------------------\n",
        "\n",
        "print(\"Absolute error = | exact value - approximate value | =\", abs(exact - approx) )\n",
        "print(\"Relative error = | exact value - approximate value | / | exact value | =\", abs( exact - approx ) / abs( exact ) ) "
      ],
      "metadata": {
        "colab": {
          "base_uri": "https://localhost:8080/"
        },
        "id": "huXENsDiomcW",
        "outputId": "411a4713-490f-45b2-a556-9ddd1ae613dd"
      },
      "execution_count": 386,
      "outputs": [
        {
          "output_type": "stream",
          "name": "stdout",
          "text": [
            "Central Difference: f'(0.95) = 0.7243421052631578\n",
            "Exact Value: 0.776875\n",
            "Absolute error = | exact value - approximate value | = 0.052532894736842195\n",
            "Relative error = | exact value - approximate value | / | exact value | = 0.06762078164034394\n"
          ]
        }
      ]
    },
    {
      "cell_type": "markdown",
      "source": [
        "###Compute the absolute and relative error for the second derivative of the interpolation at center + 0.2."
      ],
      "metadata": {
        "id": "qxNoW29Pc6VI"
      }
    },
    {
      "cell_type": "markdown",
      "source": [
        "f(x) = x + x^3\n",
        "\n",
        "f'(x) = 1 + 3x^2\n",
        "\n",
        "f''(x) = 6x\n",
        "\n"
      ],
      "metadata": {
        "id": "avne2X27pK2t"
      }
    },
    {
      "cell_type": "code",
      "source": [
        "center = 0.75\n",
        "x = center+0.2\n",
        "h = 0.005 \n",
        "equationString = \"0.1*x + 0.25*x**3\" #\"3 * x**3 + 4 * x**2 + 3\"\n",
        "equation = eval(equationString)\n",
        "\n",
        "#-----------------------------------------------------------------------\n",
        "\n",
        "def f(input):\n",
        "  x = input\n",
        "  equation = eval(equationString)\n",
        "  return equation\n",
        "\n",
        "approx = ( f(center + 0.2) - f(center) + f(center - 0.2) ) / (x - center) ** 2\n",
        "exact = 6*(0.95)\n",
        "\n",
        "print(\"Central Difference: f'({}) =\".format(x), approx)\n",
        "\n",
        "print(\"Exact Value:\", exact)\n",
        "\n",
        "#-----------------------------------------------------------------------\n",
        "\n",
        "print(\"Absolute error = | exact value - approximate value | =\", abs(exact - approx) )\n",
        "print(\"Relative error = | exact value - approximate value | / | exact value | =\", abs( exact - approx ) / abs( exact ) ) "
      ],
      "metadata": {
        "colab": {
          "base_uri": "https://localhost:8080/"
        },
        "id": "V2_Xxk4GfDMa",
        "outputId": "80709db9-e2bd-47f6-fb0c-b2b823c84893"
      },
      "execution_count": 392,
      "outputs": [
        {
          "output_type": "stream",
          "name": "stdout",
          "text": [
            "Central Difference: f'(0.95) = 5.636718750000003\n",
            "Exact Value: 5.699999999999999\n",
            "Absolute error = | exact value - approximate value | = 0.06328124999999662\n",
            "Relative error = | exact value - approximate value | / | exact value | = 0.011101973684209936\n"
          ]
        }
      ]
    },
    {
      "cell_type": "markdown",
      "source": [
        "###Graph the interpolation and original function in a window that contains all the above points.\n"
      ],
      "metadata": {
        "id": "qwbfFictc60C"
      }
    },
    {
      "cell_type": "code",
      "source": [
        "xVals = []\n",
        "fOFxVals = []\n",
        "\n",
        "def f(input):\n",
        "  x = input\n",
        "  equation = eval(equationString)\n",
        "  return equation\n",
        "\n",
        "xVals = [center, center + 0.1, center + 0.2, center * 2]\n",
        "for i in range(len(xVals)):\n",
        "  fOFxVals.append( f(xVals[i]) )\n",
        "\n",
        "linespace = np.linspace(-2, 3, 200) # (-x, +x, resolution)\n",
        "plt.ylim(-3, 4) # limits y axis from and to (-y, +y)\n",
        "y = np.vectorize(f)(linespace)\n",
        "\n",
        "plt.plot(linespace, y)              # Plotting the equation\n",
        "\n",
        "for i in range(len(xVals)-1):\n",
        "  plt.plot([xVals[i], xVals[i+1]], [fOFxVals[i], fOFxVals[i+1]])\n",
        "\n",
        "plt.axvline(xVals[0], color='red', linestyle='--') # Vertical line at xVals[0]\n",
        "plt.axvline(xVals[1], color='green', linestyle='--') # Vertical line at xVals[1]\n",
        "plt.axvline(xVals[2], color='blue', linestyle='--') # Vertical line at xVals[2]\n",
        "plt.axvline(xVals[3], color='purple', linestyle='--') # Vertical line at xVals[3]\n",
        "\n",
        "plt.title(\"Graph of y = {}\".format(equationString))  # Adding a title\n",
        "plt.xlabel(\"x\")             # Labeling the x-axis\n",
        "plt.ylabel(\"y\")             # Labeling the y-axis\n",
        "plt.grid()                  # Adding a grid\n",
        "plt.show()                  # Displaying the plot"
      ],
      "metadata": {
        "colab": {
          "base_uri": "https://localhost:8080/",
          "height": 295
        },
        "id": "vjWa7a0oWfK5",
        "outputId": "2530bf84-19c8-4b6e-d739-6bd874e001a2"
      },
      "execution_count": 357,
      "outputs": [
        {
          "output_type": "display_data",
          "data": {
            "text/plain": [
              "<Figure size 432x288 with 1 Axes>"
            ],
            "image/png": "[encoded data removed]"
          },
          "metadata": {
            "needs_background": "light"
          }
        }
      ]
    },
    {
      "cell_type": "markdown",
      "source": [
        "##What we found:."
      ],
      "metadata": {
        "id": "F0VyNkjPdMae"
      }
    },
    {
      "cell_type": "markdown",
      "source": [
        "###The following is what we found:\n",
        "\n",
        "> We found that that when taking the second derivative and finding the central, backward, and forward difference, it creates a very precise window and allows you to really see what is going on when graphed. Also, Lagrange interpolation is a very accurate error analysis of a set of data points, or any function that is chosen.\n",
        "\n"
      ],
      "metadata": {
        "id": "99ComfJzdO_J"
      }
    },
    {
      "cell_type": "markdown",
      "source": [
        "We would say that when approximating the derivative when a continuous function known has some shortcomings in itself. One main one would be the accuracy. The more accurate you want to be, the smaller the intervals have to be, etc. However, one shortcoming of using smaller intervals is the fact that computation time is increased as well. "
      ],
      "metadata": {
        "id": "fSL31o1LdQXq"
      }
    },
    {
      "cell_type": "markdown",
      "source": [
        "###Below is the formula for Lagrange interpolation: \n"
      ],
      "metadata": {
        "id": "g34Wo6UPdRf4"
      }
    },
    {
      "cell_type": "markdown",
      "source": [
        "$f_n(x) = \\sum_{i=0}^n L_i(x)f(x_i)$\n"
      ],
      "metadata": {
        "id": "7vuErihGoUxI"
      }
    },
    {
      "cell_type": "markdown",
      "source": [
        "Overall, the factors in the Lagrange Interpolation weighting function, Li(x), ensure that the chosen polynomial passes through each known point while neglecting any point that is not included in the data. This makes it a very powerful, and fun, tool for approximating a function with only a few known data points. "
      ],
      "metadata": {
        "id": "b3bIRUpZdR4N"
      }
    }
  ]
}
