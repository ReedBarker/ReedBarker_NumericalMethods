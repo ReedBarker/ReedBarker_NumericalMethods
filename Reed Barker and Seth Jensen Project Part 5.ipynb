{
  "nbformat": 4,
  "nbformat_minor": 0,
  "metadata": {
    "colab": {
      "provenance": []
    },
    "kernelspec": {
      "name": "python3",
      "display_name": "Python 3"
    },
    "language_info": {
      "name": "python"
    }
  },
  "cells": [
    {
      "cell_type": "markdown",
      "source": [
        "#Project Module 5: Interpolation\n",
        "#CPSMA 4413-01 Dr. Jacob's Numerical Methods\n",
        "Reed Barker and Seth Jensen"
      ],
      "metadata": {
        "id": "2xzx0sTExtCS"
      }
    },
    {
      "cell_type": "code",
      "execution_count": 65,
      "metadata": {
        "id": "nOq62KxRgQcJ"
      },
      "outputs": [],
      "source": [
        "import matplotlib.pyplot as plt\n",
        "import numpy as np\n",
        "# Methods\n",
        "\n",
        "def gJEquation(a, b, c, d):\n",
        "  return a - ( b * (c / d) )\n",
        "\n",
        "def gaussJordan(arr):\n",
        "\n",
        "  showResults = False #@param {type:\"boolean\"}\n",
        "\n",
        "  #Stage 1 Creating an upper triangular matrix\n",
        "  val1 = 1\n",
        "\n",
        "  for i in range (len(arr)):\n",
        "    i_num = arr[i][i]\n",
        "\n",
        "    for j in range (val1, len(arr)):\n",
        "      j_num = arr[j][i]\n",
        "\n",
        "      for k in range (len(arr[0])):\n",
        "        arr[j][k] = gJEquation(arr[j][k], arr[i][k], j_num, i_num)\n",
        "\n",
        "    val1 += 1\n",
        "\n",
        "  if (showResults):\n",
        "    for row in arr:\n",
        "      print(row)\n",
        "    print()\n",
        "\n",
        "  #Stage 2 Transform rows for the Diagonal Matrix location values to be 1\n",
        "  for i in range(len(arr)):\n",
        "    i_num = arr[i][i]\n",
        "\n",
        "    for j in range(len(arr[0])):\n",
        "      arr[i][j] /= i_num\n",
        "      #print(arr[i][j], i_num)\n",
        "\n",
        "  if (showResults):\n",
        "    for row in arr:\n",
        "      print(row)\n",
        "    print()\n",
        "\n",
        "  #Stage 3 Transform rows to create a Diagonal Matrix\n",
        "  val1 = len(arr)\n",
        "\n",
        "  for i in range (1, len(arr)):\n",
        "    i_num = arr[i][i]\n",
        "\n",
        "    for j in range (i):\n",
        "      j_num = arr[j][i]\n",
        "\n",
        "      for k in range (len(arr[0])):\n",
        "        arr[j][k] = gJEquation(arr[j][k], arr[i][k], j_num, i_num)\n",
        "\n",
        "  val1 -= 1\n",
        "\n",
        "  if (showResults):\n",
        "    for row in arr:\n",
        "      print(row)\n",
        "    print()\n",
        "\n",
        "  return arr\n",
        "\n",
        "def sysOfEqAnswers(arr):\n",
        "  tempArray = []\n",
        "\n",
        "  gaussJordan(arr)\n",
        "\n",
        "  for i in range(len(arr)):\n",
        "    tempArray.append(arr[i][-1])\n",
        "\n",
        "  return tempArray"
      ]
    },
    {
      "cell_type": "markdown",
      "source": [
        "| x | f(x) |\n",
        "|---------|----------|\n",
        "| 2   | 1.3409207818930033  |\n",
        "| 4   | 2.702289094650206  |\n",
        "| 8   | 3.048482510288066  |\n",
        "| 12  | 3.0243055555555554  |\n",
        "| 14  | 4.107896090534981  |\n",
        "| 15  | 5.555555555555555  |\n",
        "\n",
        "\n",
        "---\n",
        "\n",
        "\n",
        "Base:  \n",
        "f(x) = x<sup>3</sup> - x/3<sup>2</sup> - x + 4\n",
        "\n",
        "Transformed:  \n",
        "f(x) = ((x/6) - 1.5)<sup>3</sup> - ((x/18) - 1.5)<sup>2</sup> - ((x/6) - 1.5) + 4\n",
        "\n",
        "---\n",
        "\n",
        "Base:  \n",
        "f(x) = a<sub>0</sub> + a<sub>1</sub>x + a<sub>2</sub>x<sup>2</sup> + a<sub>3</sub>x<sup>3</sup>  \n",
        "\n",
        "f(2) =  a<sub>0</sub> + a<sub>1</sub>(2) + a<sub>2</sub>(2)<sup>2</sup> + a<sub>3</sub>(2)<sup>3</sup> + a<sub>4</sub>(2)<sup>4</sup> + a<sub>5</sub>(2)<sup>5</sup> = 1.3409207818930033  \n",
        "f(4) =  a<sub>0</sub> + a<sub>1</sub>(4) + a<sub>2</sub>(4)<sup>2</sup> + a<sub>3</sub>(4)<sup>3</sup> + a<sub>4</sub>(4)<sup>4</sup> + a<sub>5</sub>(4)<sup>5</sup> = 2.702289094650206   \n",
        "f(8) =  a<sub>0</sub> + a<sub>1</sub>(8) + a<sub>2</sub>(8)<sup>2</sup> + a<sub>3</sub>(8)<sup>3</sup> + a<sub>4</sub>(8)<sup>4</sup> + a<sub>5</sub>(8)<sup>5</sup> = 3.048482510288066   \n",
        "f(12) = a<sub>0</sub> + a<sub>1</sub>(12) + a<sub>2</sub>(12)<sup>2</sup> + a<sub>3</sub>(12)<sup>3</sup> + a<sub>4</sub>(12)<sup>4</sup> + a<sub>5</sub>(12)<sup>5</sup> = 3.0243055555555554  \n",
        "f(14) = a<sub>0</sub> + a<sub>1</sub>(14) + a<sub>2</sub>(14)<sup>2</sup> + a<sub>3</sub>(14)<sup>3</sup> + a<sub>4</sub>(14)<sup>4</sup> + a<sub>5</sub>(14)<sup>5</sup> = 4.107896090534981   \n",
        "f(15) = a<sub>0</sub> + a<sub>1</sub>(15) + a<sub>2</sub>(15)<sup>2</sup> + a<sub>3</sub>(15)<sup>3</sup> + a<sub>4</sub>(15)<sup>4</sup> + a<sub>5</sub>(15)<sup>5</sup> = 5.555555555555555   \n",
        "\n",
        "\n",
        "---\n",
        "\n",
        "\n",
        "$\n",
        "\\begin{matrix}\n",
        "\\left[ \\begin{array}{cccc}\n",
        "1 & 2 & 4 & 8 & 16 & 32\\\\\n",
        "1 & 4 & 16 & 64 & 256 & 1024\\\\\n",
        "1 & 8 & 64 & 512 & 4096 & 32768\\\\\n",
        "1 & 12 & 144 & 1728 & 20736 & 248832\\\\\n",
        "1 & 14 & 196 & 2744 & 38416 & 537824\\\\\n",
        "1 & 15 & 225 & 3375 & 50625 & 759375\\\\\n",
        "\\end{array}\n",
        "\\right]\n",
        "\\end{matrix}\n",
        "\\begin{matrix}\n",
        "\\left[ \\begin{array}{cccc}\n",
        "a_0\\\\\n",
        "a_1\\\\\n",
        "a_2\\\\\n",
        "a_3\\\\\n",
        "\\end{array}\n",
        "\\right]\n",
        "\\end{matrix} =\n",
        "\\begin{matrix}\n",
        "\\left[ \\begin{array}{cccc}\n",
        "1.3409207818930033 \\\\\n",
        "2.702289094650206 \\\\\n",
        "3.048482510288066 \\\\\n",
        "3.0243055555555554 \\\\\n",
        "4.107896090534981 \\\\\n",
        "5.555555555555555 \\\\\n",
        "\\end{array}\n",
        "\\right]\n",
        "\\end{matrix}\n",
        "$\n",
        "\n"
      ],
      "metadata": {
        "id": "n2NT9js6rh6w"
      }
    },
    {
      "cell_type": "code",
      "source": [
        "import numpy as np\n",
        "\n",
        "array1 = []\n",
        "\n",
        "fOFx_equation = \"((x/6) - 1.5)**5 + ((x/6) - 1.5)**4 + ((x/6) - 1.5)**3 - ((x/18) - 1.5)**2 - ((x/6) - 1.5) + 5\"\n",
        "\n",
        "def f(x): # f(x) function\n",
        "  return eval(fOFx_equation) # runs the string equation with input as the x\n",
        "\n",
        "xVals = [2, 4, 8, 12, 14, 15]\n",
        "fOFxVals = [f(xVals[0]), f(xVals[1]), f(xVals[2]), f(xVals[3]), f(xVals[4]), f(xVals[5])]\n",
        "\n",
        "print(\"Matrix:\")\n",
        "for i in range(6):\n",
        "    row = []\n",
        "    for j in range(7):\n",
        "        if j < 6:\n",
        "            row.append(xVals[i] ** j) # add xVals raised to the power of j to the row\n",
        "        else:\n",
        "            row.append(fOFxVals[i]) # add the corresponding fOFxVal to the row\n",
        "    array1.append(row) # append the row to the array\n",
        "\n",
        "    print(array1[i])"
      ],
      "metadata": {
        "colab": {
          "base_uri": "https://localhost:8080/"
        },
        "id": "3TsO3wsmscjR",
        "outputId": "89b444ed-d7f1-4082-9278-8fc5238cd130"
      },
      "execution_count": 73,
      "outputs": [
        {
          "output_type": "stream",
          "name": "stdout",
          "text": [
            "Matrix\n",
            "[1, 2, 4, 8, 16, 32, 2.3409207818930033]\n",
            "[1, 4, 16, 64, 256, 1024, 3.702289094650206]\n",
            "[1, 8, 64, 512, 4096, 32768, 4.048482510288066]\n",
            "[1, 12, 144, 1728, 20736, 248832, 4.024305555555555]\n",
            "[1, 14, 196, 2744, 38416, 537824, 5.107896090534981]\n",
            "[1, 15, 225, 3375, 50625, 759375, 6.555555555555555]\n"
          ]
        }
      ]
    },
    {
      "cell_type": "code",
      "source": [
        "points1 = [3, 5, 6, 10, 13]\n",
        "inputNum = 0\n",
        "\n",
        "#---------------------------------------------------------------------\n",
        "\n",
        "arr = sysOfEqAnswers(array1)\n",
        "print(arr)\n",
        "\n",
        "for i in range(len(points1)):\n",
        "  inputNum = points1[i]\n",
        "  maths = arr[0] + arr[1]*inputNum + arr[2]*inputNum**2 + arr[3]*inputNum**3 + arr[4]*inputNum**4 + arr[5]*inputNum**5\n",
        "  \n",
        "  print(maths)\n",
        "\n",
        "  plt.plot(inputNum, maths, 'o-', color=\"red\")\n",
        "\n",
        "#---------------------------------------------------------------------\n",
        "\n",
        "\n",
        "\n",
        "\n",
        "\n",
        "plt.plot(xVals, fOFxVals, 'o-', label='Data Points')\n",
        "plt.title('Plot of x vs f(x)')\n",
        "plt.legend()\n",
        "plt.grid(True)\n",
        "\n",
        "fOFx_equation = \"((x/6) - 1.5)**5 + ((x/6) - 1.5)**4 + ((x/6) - 1.5)**3 - ((x/18) - 1.5)**2 - ((x/6) - 1.5) + 5\"\n",
        "\n",
        "def f(x):\n",
        "    return eval(fOFx_equation)\n",
        "\n",
        "# Define the x range for the plot\n",
        "x = np.linspace(1.5, 15.5, 100)\n",
        "\n",
        "# Plot the function over the x range\n",
        "plt.plot(x, f(x), color=\"#D9D9D9\")\n",
        "\n",
        "plt.show()\n",
        "\n",
        "\n",
        "\n"
      ],
      "metadata": {
        "colab": {
          "base_uri": "https://localhost:8080/",
          "height": 556
        },
        "id": "FAPk9Vf1rpk2",
        "outputId": "79cd7094-394d-44e7-97ba-0de50c99f488"
      },
      "execution_count": 67,
      "outputs": [
        {
          "output_type": "stream",
          "name": "stdout",
          "text": [
            "[-1.6562500000000129, 3.0937500000000115, -0.6905864197530902, 0.08101851851851903, -0.005015432098765464, 0.00012860082304526823]\n",
            "3.222222222222222\n",
            "3.942386831275718\n",
            "4.045138888888882\n",
            "3.9468878600823025\n",
            "4.353909465020571\n"
          ]
        },
        {
          "output_type": "display_data",
          "data": {
            "text/plain": [
              "<Figure size 640x480 with 1 Axes>"
            ],
            "image/png": "[encoded data removed]"
          },
          "metadata": {}
        }
      ]
    },
    {
      "cell_type": "markdown",
      "source": [
        "| t(s) | v(t) |\n",
        "|---------|----------|\n",
        "| 0        |  0  |\n",
        "| 10       |  227.04  |\n",
        "| 15       |  362.78  |\n",
        "| 20       |  517.35  |\n",
        "| 22.5     |  602.97 |\n",
        "| 30       |  901.67 |\n",
        "\n",
        "---\n",
        "\n",
        "$\n",
        "y = mx + b  \n",
        "$\n",
        "\n",
        "$\n",
        "m = \\frac{y_2 - y_1}{x_2 - x_1}\n",
        "$\n",
        "\n",
        "$\n",
        "y = \\frac{y_2 - y_1}{x_2 - x_1}x + b  \n",
        "$\n",
        "\n",
        "$\n",
        "f(x) = f(x_1) + \\frac{f(x_2) - f(x_1)}{x_2 - x_1}(x - x_1)\n",
        "$\n",
        "\n",
        "(15, 362.78), (20, 517.35)\n",
        "\n",
        "$\n",
        "f(x) = 362.78 + \\frac{517.35 - 362.78}{20 - 15}(x - 15)\n",
        "$\n",
        "\n",
        "$\n",
        "f(16) = 362.78 + \\frac{517.35 - 362.78}{20 - 15}(16 - 15)\n",
        "$\n",
        "\n",
        "$\n",
        "f(16) = 393.7\n",
        "$"
      ],
      "metadata": {
        "id": "nUP9dY2Nrwx8"
      }
    },
    {
      "cell_type": "code",
      "source": [
        "\n",
        "def methodWow(x1, fOFx1, x2, fOFx2, x):\n",
        "  return( fOFx1 + ( (fOFx2 - fOFx1) / (x2 - x1) ) * (x - x1) )\n",
        "\n",
        "for i in range(60):\n",
        "  inputNum = i*.25\n",
        "  for i in range(len(xVals)-1):\n",
        "    if (xVals[i] <= inputNum and xVals[i+1] >= inputNum):\n",
        "      result = methodWow(xVals[i], fOFxVals[i], xVals[i+1], fOFxVals[i+1], inputNum)\n",
        "      plt.plot(inputNum, result, 'ro') # 'ro' for red circles\n",
        "      break\n",
        "\n",
        "print(result)\n",
        "\n",
        "#----------------------------------------------------------------\n",
        "\n",
        "# Define the x range for the plot\n",
        "x = np.linspace(1.5, 15.5, 100)\n",
        "# Plot the function over the x range\n",
        "plt.plot(x, f(x), color=\"#D9D9D9\")\n",
        "\n",
        "plt.title('Plot of x vs f(x)')\n",
        "plt.legend()\n",
        "plt.grid(True)\n",
        "plt.show()"
      ],
      "metadata": {
        "colab": {
          "base_uri": "https://localhost:8080/",
          "height": 487
        },
        "id": "r4yujlvwr0Ml",
        "outputId": "7f8874cd-6047-4b7e-d9e9-5b0a9d17773a"
      },
      "execution_count": 68,
      "outputs": [
        {
          "output_type": "stream",
          "name": "stderr",
          "text": [
            "WARNING:matplotlib.legend:No artists with labels found to put in legend.  Note that artists whose label start with an underscore are ignored when legend() is called with no argument.\n"
          ]
        },
        {
          "output_type": "stream",
          "name": "stdout",
          "text": [
            "6.193640689300412\n"
          ]
        },
        {
          "output_type": "display_data",
          "data": {
            "text/plain": [
              "<Figure size 640x480 with 1 Axes>"
            ],
            "image/png": "[encoded data removed]"
          },
          "metadata": {}
        }
      ]
    }
  ]
}
